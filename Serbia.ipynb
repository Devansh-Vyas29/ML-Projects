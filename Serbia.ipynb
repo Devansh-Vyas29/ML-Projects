{
 "cells": [
  {
   "cell_type": "code",
   "execution_count": 1,
   "id": "35effc60",
   "metadata": {},
   "outputs": [],
   "source": [
    "from bs4 import BeautifulSoup\n",
    "import requests\n",
    "import pandas as pd"
   ]
  },
  {
   "cell_type": "code",
   "execution_count": 2,
   "id": "37aba62a",
   "metadata": {},
   "outputs": [],
   "source": [
    "header = {'User-Agent':'Mozilla/5.0 (X11; Linux x86_64) AppleWebKit/537.36 (KHTML, like Gecko) Chrome/95.0.4638.69 Safari/537.36'}"
   ]
  },
  {
   "cell_type": "code",
   "execution_count": 3,
   "id": "6ca0413c",
   "metadata": {},
   "outputs": [],
   "source": [
    "def soup_(url):\n",
    "    page = requests.get(url, headers = header)\n",
    "    soup = BeautifulSoup(page.content,'html.parser')\n",
    "    soup.prettify()\n",
    "    return soup"
   ]
  },
  {
   "cell_type": "code",
   "execution_count": 4,
   "id": "28e41147",
   "metadata": {},
   "outputs": [],
   "source": [
    "soup = soup_(\"https://www.countryzipcode.com/serbia\")"
   ]
  },
  {
   "cell_type": "code",
   "execution_count": 5,
   "id": "84a53765",
   "metadata": {},
   "outputs": [],
   "source": [
    "a = soup.find_all('div',{'class':'regions'})\n",
    "b = a[0].find_all('a')"
   ]
  },
  {
   "cell_type": "code",
   "execution_count": 6,
   "id": "93451b4c",
   "metadata": {},
   "outputs": [
    {
     "data": {
      "text/plain": [
       "(['https://www.countryzipcode.com/serbia/beograd',\n",
       "  'https://www.countryzipcode.com/serbia/branicevo',\n",
       "  'https://www.countryzipcode.com/serbia/central_banat',\n",
       "  'https://www.countryzipcode.com/serbia/jablanica',\n",
       "  'https://www.countryzipcode.com/serbia/kolubara',\n",
       "  'https://www.countryzipcode.com/serbia/macva',\n",
       "  'https://www.countryzipcode.com/serbia/moravica',\n",
       "  'https://www.countryzipcode.com/serbia/nisava',\n",
       "  'https://www.countryzipcode.com/serbia/north_backa',\n",
       "  'https://www.countryzipcode.com/serbia/pcinja',\n",
       "  'https://www.countryzipcode.com/serbia/pomoravlje',\n",
       "  'https://www.countryzipcode.com/serbia/rasina',\n",
       "  'https://www.countryzipcode.com/serbia/raska',\n",
       "  'https://www.countryzipcode.com/serbia/south_backa',\n",
       "  'https://www.countryzipcode.com/serbia/south?banat',\n",
       "  'https://www.countryzipcode.com/serbia/srem',\n",
       "  'https://www.countryzipcode.com/serbia/sumadija',\n",
       "  'https://www.countryzipcode.com/serbia/west_backa',\n",
       "  'https://www.countryzipcode.com/serbia/zajecar',\n",
       "  'https://www.countryzipcode.com/serbia/zlatibor'],\n",
       " ['Beograd',\n",
       "  'Branicevo',\n",
       "  'Central Banat',\n",
       "  'Jablanica',\n",
       "  'Kolubara',\n",
       "  'Macva',\n",
       "  'Moravica',\n",
       "  'Nisava',\n",
       "  'North Backa',\n",
       "  'Pcinja',\n",
       "  'Pomoravlje',\n",
       "  'Rasina',\n",
       "  'Raska',\n",
       "  'South Backa',\n",
       "  'South?Banat',\n",
       "  'Srem',\n",
       "  'sumadija',\n",
       "  'West Backa',\n",
       "  'Zajecar',\n",
       "  'Zlatibor'])"
      ]
     },
     "execution_count": 6,
     "metadata": {},
     "output_type": "execute_result"
    }
   ],
   "source": [
    "links = []\n",
    "state = []\n",
    "i = 0\n",
    "for _ in b:\n",
    "    st = _.get_text()\n",
    "    li = _['href']\n",
    "    state.append(st)\n",
    "    links.append(li)\n",
    "\n",
    "links, state"
   ]
  },
  {
   "cell_type": "code",
   "execution_count": 7,
   "id": "c5225b7b",
   "metadata": {},
   "outputs": [],
   "source": [
    "zipcode = []\n",
    "states = []\n",
    "city = []\n",
    "for i in range(len(links)):\n",
    "    soup = soup_(links[i])\n",
    "    a = soup.find_all('div',{'class':'regions'})\n",
    "    b = a[0].find_all('a')\n",
    "    for _ in b:\n",
    "        st = _.get_text()\n",
    "        data = st.split(' - ')\n",
    "        zipcode.append(data[0])\n",
    "        city.append(data[1])\n",
    "        states.append(state[i])\n"
   ]
  },
  {
   "cell_type": "code",
   "execution_count": 8,
   "id": "e15c593a",
   "metadata": {},
   "outputs": [
    {
     "data": {
      "text/html": [
       "<div>\n",
       "<style scoped>\n",
       "    .dataframe tbody tr th:only-of-type {\n",
       "        vertical-align: middle;\n",
       "    }\n",
       "\n",
       "    .dataframe tbody tr th {\n",
       "        vertical-align: top;\n",
       "    }\n",
       "\n",
       "    .dataframe thead th {\n",
       "        text-align: right;\n",
       "    }\n",
       "</style>\n",
       "<table border=\"1\" class=\"dataframe\">\n",
       "  <thead>\n",
       "    <tr style=\"text-align: right;\">\n",
       "      <th></th>\n",
       "      <th>city</th>\n",
       "      <th>zipcode</th>\n",
       "    </tr>\n",
       "    <tr>\n",
       "      <th>state</th>\n",
       "      <th></th>\n",
       "      <th></th>\n",
       "    </tr>\n",
       "  </thead>\n",
       "  <tbody>\n",
       "    <tr>\n",
       "      <th>Beograd</th>\n",
       "      <td>Beograd</td>\n",
       "      <td>11000</td>\n",
       "    </tr>\n",
       "    <tr>\n",
       "      <th>Beograd</th>\n",
       "      <td>Kolari</td>\n",
       "      <td>11431</td>\n",
       "    </tr>\n",
       "    <tr>\n",
       "      <th>Beograd</th>\n",
       "      <td>Umcari</td>\n",
       "      <td>11430</td>\n",
       "    </tr>\n",
       "    <tr>\n",
       "      <th>Beograd</th>\n",
       "      <td>Vranic</td>\n",
       "      <td>11427</td>\n",
       "    </tr>\n",
       "    <tr>\n",
       "      <th>Beograd</th>\n",
       "      <td>Meljak</td>\n",
       "      <td>11426</td>\n",
       "    </tr>\n",
       "    <tr>\n",
       "      <th>...</th>\n",
       "      <td>...</td>\n",
       "      <td>...</td>\n",
       "    </tr>\n",
       "    <tr>\n",
       "      <th>sumadija</th>\n",
       "      <td>Brzan</td>\n",
       "      <td>34228</td>\n",
       "    </tr>\n",
       "    <tr>\n",
       "      <th>sumadija</th>\n",
       "      <td>zirovnica</td>\n",
       "      <td>34229</td>\n",
       "    </tr>\n",
       "    <tr>\n",
       "      <th>sumadija</th>\n",
       "      <td>Gruza</td>\n",
       "      <td>34230</td>\n",
       "    </tr>\n",
       "    <tr>\n",
       "      <th>sumadija</th>\n",
       "      <td>durdevo</td>\n",
       "      <td>34215</td>\n",
       "    </tr>\n",
       "    <tr>\n",
       "      <th>sumadija</th>\n",
       "      <td>Bare</td>\n",
       "      <td>34205</td>\n",
       "    </tr>\n",
       "  </tbody>\n",
       "</table>\n",
       "<p>972 rows × 2 columns</p>\n",
       "</div>"
      ],
      "text/plain": [
       "               city zipcode\n",
       "state                      \n",
       "Beograd     Beograd   11000\n",
       "Beograd      Kolari   11431\n",
       "Beograd      Umcari   11430\n",
       "Beograd      Vranic   11427\n",
       "Beograd      Meljak   11426\n",
       "...             ...     ...\n",
       "sumadija      Brzan   34228\n",
       "sumadija  zirovnica   34229\n",
       "sumadija      Gruza   34230\n",
       "sumadija    durdevo   34215\n",
       "sumadija       Bare   34205\n",
       "\n",
       "[972 rows x 2 columns]"
      ]
     },
     "execution_count": 8,
     "metadata": {},
     "output_type": "execute_result"
    }
   ],
   "source": [
    "df = pd.DataFrame({\n",
    "    'state': states,\n",
    "    'city': city,\n",
    "    'zipcode': zipcode\n",
    "})\n",
    "df.set_index('state', inplace = True)\n",
    "df.sort_index(inplace = True)\n",
    "df"
   ]
  },
  {
   "cell_type": "code",
   "execution_count": 9,
   "id": "b2d892be",
   "metadata": {},
   "outputs": [],
   "source": [
    "df.to_csv(\"Serbia.csv\")"
   ]
  },
  {
   "cell_type": "code",
   "execution_count": null,
   "id": "18d2f872",
   "metadata": {},
   "outputs": [],
   "source": []
  }
 ],
 "metadata": {
  "kernelspec": {
   "display_name": "Python 3 (ipykernel)",
   "language": "python",
   "name": "python3"
  },
  "language_info": {
   "codemirror_mode": {
    "name": "ipython",
    "version": 3
   },
   "file_extension": ".py",
   "mimetype": "text/x-python",
   "name": "python",
   "nbconvert_exporter": "python",
   "pygments_lexer": "ipython3",
   "version": "3.9.7"
  }
 },
 "nbformat": 4,
 "nbformat_minor": 5
}
