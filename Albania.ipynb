{
 "cells": [
  {
   "cell_type": "code",
   "execution_count": 1,
   "id": "7fa8cd14",
   "metadata": {},
   "outputs": [],
   "source": [
    "from bs4 import BeautifulSoup\n",
    "import requests\n",
    "import pandas as pd"
   ]
  },
  {
   "cell_type": "code",
   "execution_count": 2,
   "id": "18d38aed",
   "metadata": {},
   "outputs": [],
   "source": [
    "header = {'User-Agent':'Mozilla/5.0 (X11; Linux x86_64) AppleWebKit/537.36 (KHTML, like Gecko) Chrome/95.0.4638.69 Safari/537.36'}"
   ]
  },
  {
   "cell_type": "code",
   "execution_count": 3,
   "id": "a0ca0029",
   "metadata": {},
   "outputs": [],
   "source": [
    "def soup_(url):\n",
    "    page = requests.get(url, headers = header)\n",
    "    soup = BeautifulSoup(page.content,'html.parser')\n",
    "    soup.prettify()\n",
    "    return soup"
   ]
  },
  {
   "cell_type": "code",
   "execution_count": 4,
   "id": "5b427f2e",
   "metadata": {},
   "outputs": [],
   "source": [
    "soup = soup_(\"https://www.countryzipcode.com/albania\")"
   ]
  },
  {
   "cell_type": "code",
   "execution_count": 5,
   "id": "fb188eb4",
   "metadata": {},
   "outputs": [],
   "source": [
    "a = soup.find_all('div',{'class':'regions'})"
   ]
  },
  {
   "cell_type": "code",
   "execution_count": 6,
   "id": "14998ab0",
   "metadata": {},
   "outputs": [],
   "source": [
    "b = a[0].find_all('a')"
   ]
  },
  {
   "cell_type": "code",
   "execution_count": 7,
   "id": "da78f291",
   "metadata": {},
   "outputs": [],
   "source": [
    "links = []\n",
    "state = []"
   ]
  },
  {
   "cell_type": "code",
   "execution_count": 8,
   "id": "62a82458",
   "metadata": {},
   "outputs": [
    {
     "data": {
      "text/plain": [
       "(['https://www.countryzipcode.com/albania/bajram_curri',\n",
       "  'https://www.countryzipcode.com/albania/berat',\n",
       "  'https://www.countryzipcode.com/albania/bulqize',\n",
       "  'https://www.countryzipcode.com/albania/diber',\n",
       "  'https://www.countryzipcode.com/albania/durres',\n",
       "  'https://www.countryzipcode.com/albania/elbasan',\n",
       "  'https://www.countryzipcode.com/albania/ems_office',\n",
       "  'https://www.countryzipcode.com/albania/fier',\n",
       "  'https://www.countryzipcode.com/albania/gjirokaster',\n",
       "  'https://www.countryzipcode.com/albania/gramsh',\n",
       "  'https://www.countryzipcode.com/albania/has',\n",
       "  'https://www.countryzipcode.com/albania/kavaje',\n",
       "  'https://www.countryzipcode.com/albania/kolonje',\n",
       "  'https://www.countryzipcode.com/albania/korce',\n",
       "  'https://www.countryzipcode.com/albania/kruje',\n",
       "  'https://www.countryzipcode.com/albania/kucove',\n",
       "  'https://www.countryzipcode.com/albania/kukes',\n",
       "  'https://www.countryzipcode.com/albania/kurbin',\n",
       "  'https://www.countryzipcode.com/albania/lezhe',\n",
       "  'https://www.countryzipcode.com/albania/librazhd',\n",
       "  'https://www.countryzipcode.com/albania/lushnje',\n",
       "  'https://www.countryzipcode.com/albania/malesi_e_madhe',\n",
       "  'https://www.countryzipcode.com/albania/mat',\n",
       "  'https://www.countryzipcode.com/albania/mirdite',\n",
       "  'https://www.countryzipcode.com/albania/peqin',\n",
       "  'https://www.countryzipcode.com/albania/permet',\n",
       "  'https://www.countryzipcode.com/albania/pogradec',\n",
       "  'https://www.countryzipcode.com/albania/puke',\n",
       "  'https://www.countryzipcode.com/albania/sarande',\n",
       "  'https://www.countryzipcode.com/albania/shkoder',\n",
       "  'https://www.countryzipcode.com/albania/skrapar',\n",
       "  'https://www.countryzipcode.com/albania/tepelene',\n",
       "  'https://www.countryzipcode.com/albania/tirane',\n",
       "  'https://www.countryzipcode.com/albania/transit',\n",
       "  'https://www.countryzipcode.com/albania/tropoje',\n",
       "  'https://www.countryzipcode.com/albania/vlore'],\n",
       " ['Bajram Curri',\n",
       "  'Berat',\n",
       "  'Bulqize',\n",
       "  'Diber',\n",
       "  'Durres',\n",
       "  'Elbasan',\n",
       "  'Ems Office',\n",
       "  'Fier',\n",
       "  'Gjirokaster',\n",
       "  'Gramsh',\n",
       "  'Has',\n",
       "  'Kavaje',\n",
       "  'Kolonje(Erseke)',\n",
       "  'Korce',\n",
       "  'Kruje',\n",
       "  'Kucove',\n",
       "  'Kukes',\n",
       "  'Kurbin(Lac)',\n",
       "  'Lezhe',\n",
       "  'Librazhd',\n",
       "  'Lushnje',\n",
       "  'Malesi E Madhe',\n",
       "  'Mat',\n",
       "  'Mirdite',\n",
       "  'Peqin',\n",
       "  'Permet',\n",
       "  'Pogradec',\n",
       "  'Puke',\n",
       "  'Sarande',\n",
       "  'Shkoder',\n",
       "  'Skrapar',\n",
       "  'Tepelene',\n",
       "  'Tirane',\n",
       "  'Transit',\n",
       "  'Tropoje',\n",
       "  'Vlore'])"
      ]
     },
     "execution_count": 8,
     "metadata": {},
     "output_type": "execute_result"
    }
   ],
   "source": [
    "i = 0\n",
    "for _ in b:\n",
    "    st = _.get_text()\n",
    "    li = _['href']\n",
    "    state.append(st)\n",
    "    links.append(li)\n",
    "\n",
    "links, state"
   ]
  },
  {
   "cell_type": "code",
   "execution_count": 9,
   "id": "c6b53a52",
   "metadata": {},
   "outputs": [],
   "source": [
    "zipcode = []\n",
    "states = []\n",
    "city = []\n",
    "for i in range(len(links)):\n",
    "    soup = soup_(links[i])\n",
    "    a = soup.find_all('div',{'class':'regions'})\n",
    "    b = a[0].find_all('a')\n",
    "    for _ in b:\n",
    "        st = _.get_text()\n",
    "        data = st.split(' - ')\n",
    "        zipcode.append(data[0])\n",
    "        city.append(data[1])\n",
    "        states.append(state[i])\n"
   ]
  },
  {
   "cell_type": "code",
   "execution_count": 10,
   "id": "c140554a",
   "metadata": {},
   "outputs": [
    {
     "data": {
      "text/html": [
       "<div>\n",
       "<style scoped>\n",
       "    .dataframe tbody tr th:only-of-type {\n",
       "        vertical-align: middle;\n",
       "    }\n",
       "\n",
       "    .dataframe tbody tr th {\n",
       "        vertical-align: top;\n",
       "    }\n",
       "\n",
       "    .dataframe thead th {\n",
       "        text-align: right;\n",
       "    }\n",
       "</style>\n",
       "<table border=\"1\" class=\"dataframe\">\n",
       "  <thead>\n",
       "    <tr style=\"text-align: right;\">\n",
       "      <th></th>\n",
       "      <th>state</th>\n",
       "      <th>city</th>\n",
       "      <th>zipcode</th>\n",
       "    </tr>\n",
       "  </thead>\n",
       "  <tbody>\n",
       "    <tr>\n",
       "      <th>0</th>\n",
       "      <td>Bajram Curri</td>\n",
       "      <td>Qender</td>\n",
       "      <td>8701</td>\n",
       "    </tr>\n",
       "    <tr>\n",
       "      <th>1</th>\n",
       "      <td>Bajram Curri</td>\n",
       "      <td>Bajram Curri</td>\n",
       "      <td>8702</td>\n",
       "    </tr>\n",
       "    <tr>\n",
       "      <th>2</th>\n",
       "      <td>Bajram Curri</td>\n",
       "      <td>Tropoje</td>\n",
       "      <td>8703</td>\n",
       "    </tr>\n",
       "    <tr>\n",
       "      <th>3</th>\n",
       "      <td>Bajram Curri</td>\n",
       "      <td>Fierze</td>\n",
       "      <td>8704</td>\n",
       "    </tr>\n",
       "    <tr>\n",
       "      <th>4</th>\n",
       "      <td>Bajram Curri</td>\n",
       "      <td>Pac</td>\n",
       "      <td>8705</td>\n",
       "    </tr>\n",
       "    <tr>\n",
       "      <th>...</th>\n",
       "      <td>...</td>\n",
       "      <td>...</td>\n",
       "      <td>...</td>\n",
       "    </tr>\n",
       "    <tr>\n",
       "      <th>513</th>\n",
       "      <td>Vlore</td>\n",
       "      <td>Babice</td>\n",
       "      <td>9423</td>\n",
       "    </tr>\n",
       "    <tr>\n",
       "      <th>514</th>\n",
       "      <td>Vlore</td>\n",
       "      <td>Mesaplik</td>\n",
       "      <td>9424</td>\n",
       "    </tr>\n",
       "    <tr>\n",
       "      <th>515</th>\n",
       "      <td>Vlore</td>\n",
       "      <td>Himare</td>\n",
       "      <td>9425</td>\n",
       "    </tr>\n",
       "    <tr>\n",
       "      <th>516</th>\n",
       "      <td>Vlore</td>\n",
       "      <td>Orikum</td>\n",
       "      <td>9426</td>\n",
       "    </tr>\n",
       "    <tr>\n",
       "      <th>517</th>\n",
       "      <td>Vlore</td>\n",
       "      <td>Selenice</td>\n",
       "      <td>9427</td>\n",
       "    </tr>\n",
       "  </tbody>\n",
       "</table>\n",
       "<p>518 rows × 3 columns</p>\n",
       "</div>"
      ],
      "text/plain": [
       "            state          city zipcode\n",
       "0    Bajram Curri        Qender    8701\n",
       "1    Bajram Curri  Bajram Curri    8702\n",
       "2    Bajram Curri       Tropoje    8703\n",
       "3    Bajram Curri        Fierze    8704\n",
       "4    Bajram Curri           Pac    8705\n",
       "..            ...           ...     ...\n",
       "513         Vlore        Babice    9423\n",
       "514         Vlore      Mesaplik    9424\n",
       "515         Vlore        Himare    9425\n",
       "516         Vlore        Orikum    9426\n",
       "517         Vlore      Selenice    9427\n",
       "\n",
       "[518 rows x 3 columns]"
      ]
     },
     "execution_count": 10,
     "metadata": {},
     "output_type": "execute_result"
    }
   ],
   "source": [
    "df = pd.DataFrame({\n",
    "    'state': states,\n",
    "    'city': city,\n",
    "    'zipcode': zipcode\n",
    "})\n",
    "df"
   ]
  },
  {
   "cell_type": "code",
   "execution_count": 11,
   "id": "6f2a81a3",
   "metadata": {},
   "outputs": [],
   "source": [
    "df.set_index('state', inplace = True)\n",
    "df.sort_index(inplace = True)"
   ]
  },
  {
   "cell_type": "code",
   "execution_count": 13,
   "id": "8bef22d6",
   "metadata": {},
   "outputs": [],
   "source": [
    "df.drop_duplicates(keep=\"first\", inplace = True)"
   ]
  },
  {
   "cell_type": "code",
   "execution_count": 15,
   "id": "47f90e67",
   "metadata": {},
   "outputs": [],
   "source": [
    "df.to_csv(\"Albania.csv\")"
   ]
  },
  {
   "cell_type": "code",
   "execution_count": null,
   "id": "67758eb3",
   "metadata": {},
   "outputs": [],
   "source": []
  }
 ],
 "metadata": {
  "kernelspec": {
   "display_name": "Python 3 (ipykernel)",
   "language": "python",
   "name": "python3"
  },
  "language_info": {
   "codemirror_mode": {
    "name": "ipython",
    "version": 3
   },
   "file_extension": ".py",
   "mimetype": "text/x-python",
   "name": "python",
   "nbconvert_exporter": "python",
   "pygments_lexer": "ipython3",
   "version": "3.9.7"
  }
 },
 "nbformat": 4,
 "nbformat_minor": 5
}
