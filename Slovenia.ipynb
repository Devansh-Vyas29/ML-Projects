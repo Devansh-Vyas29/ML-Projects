{
 "cells": [
  {
   "cell_type": "code",
   "execution_count": 1,
   "id": "f29f2408",
   "metadata": {},
   "outputs": [],
   "source": [
    "from bs4 import BeautifulSoup\n",
    "import requests\n",
    "import pandas as pd"
   ]
  },
  {
   "cell_type": "code",
   "execution_count": 2,
   "id": "038fb7c7",
   "metadata": {},
   "outputs": [],
   "source": [
    "header = {'User-Agent':'Mozilla/5.0 (X11; Linux x86_64) AppleWebKit/537.36 (KHTML, like Gecko) Chrome/95.0.4638.69 Safari/537.36'}"
   ]
  },
  {
   "cell_type": "code",
   "execution_count": 3,
   "id": "34d8e7f7",
   "metadata": {},
   "outputs": [],
   "source": [
    "def soup_(url):\n",
    "    page = requests.get(url, headers = header)\n",
    "    soup = BeautifulSoup(page.content,'html.parser')\n",
    "    soup.prettify()\n",
    "    return soup"
   ]
  },
  {
   "cell_type": "code",
   "execution_count": 4,
   "id": "66c09c36",
   "metadata": {},
   "outputs": [],
   "source": [
    "soup = soup_(\"https://www.countryzipcode.com/slovenia\")"
   ]
  },
  {
   "cell_type": "code",
   "execution_count": 5,
   "id": "eb76ef02",
   "metadata": {},
   "outputs": [],
   "source": [
    "a = soup.find_all('div',{'class':'regions'})\n",
    "b = a[0].find_all('a')"
   ]
  },
  {
   "cell_type": "code",
   "execution_count": 6,
   "id": "e6a61ca9",
   "metadata": {},
   "outputs": [
    {
     "data": {
      "text/plain": [
       "(['https://www.countryzipcode.com/slovenia/celje',\n",
       "  'https://www.countryzipcode.com/slovenia/eastern_slovenia',\n",
       "  'https://www.countryzipcode.com/slovenia/koper',\n",
       "  'https://www.countryzipcode.com/slovenia/kranj',\n",
       "  'https://www.countryzipcode.com/slovenia/ljubljana',\n",
       "  'https://www.countryzipcode.com/slovenia/maribor',\n",
       "  'https://www.countryzipcode.com/slovenia/murska_sobota',\n",
       "  'https://www.countryzipcode.com/slovenia/nova_gorica',\n",
       "  'https://www.countryzipcode.com/slovenia/novo_mesto',\n",
       "  'https://www.countryzipcode.com/slovenia/western_slovenia'],\n",
       " ['Celje',\n",
       "  'Eastern Slovenia',\n",
       "  'Koper',\n",
       "  'Kranj',\n",
       "  'Ljubljana',\n",
       "  'Maribor',\n",
       "  'Murska Sobota',\n",
       "  'Nova Gorica',\n",
       "  'Novo Mesto',\n",
       "  'Western Slovenia'])"
      ]
     },
     "execution_count": 6,
     "metadata": {},
     "output_type": "execute_result"
    }
   ],
   "source": [
    "links = []\n",
    "state = []\n",
    "i = 0\n",
    "for _ in b:\n",
    "    st = _.get_text()\n",
    "    li = _['href']\n",
    "    state.append(st)\n",
    "    links.append(li)\n",
    "\n",
    "links, state"
   ]
  },
  {
   "cell_type": "code",
   "execution_count": 7,
   "id": "b2cb1e21",
   "metadata": {},
   "outputs": [],
   "source": [
    "zipcode = []\n",
    "states = []\n",
    "city = []\n",
    "for i in range(len(links)):\n",
    "    soup = soup_(links[i])\n",
    "    a = soup.find_all('div',{'class':'regions'})\n",
    "    b = a[0].find_all('a')\n",
    "    for _ in b:\n",
    "        st = _.get_text()\n",
    "        data = st.split(' - ')\n",
    "        zipcode.append(data[0])\n",
    "        city.append(data[1])\n",
    "        states.append(state[i])\n"
   ]
  },
  {
   "cell_type": "code",
   "execution_count": 8,
   "id": "97fa9ac0",
   "metadata": {},
   "outputs": [
    {
     "data": {
      "text/html": [
       "<div>\n",
       "<style scoped>\n",
       "    .dataframe tbody tr th:only-of-type {\n",
       "        vertical-align: middle;\n",
       "    }\n",
       "\n",
       "    .dataframe tbody tr th {\n",
       "        vertical-align: top;\n",
       "    }\n",
       "\n",
       "    .dataframe thead th {\n",
       "        text-align: right;\n",
       "    }\n",
       "</style>\n",
       "<table border=\"1\" class=\"dataframe\">\n",
       "  <thead>\n",
       "    <tr style=\"text-align: right;\">\n",
       "      <th></th>\n",
       "      <th>city</th>\n",
       "      <th>zipcode</th>\n",
       "    </tr>\n",
       "    <tr>\n",
       "      <th>state</th>\n",
       "      <th></th>\n",
       "      <th></th>\n",
       "    </tr>\n",
       "  </thead>\n",
       "  <tbody>\n",
       "    <tr>\n",
       "      <th>Celje</th>\n",
       "      <td>Celje</td>\n",
       "      <td>3000</td>\n",
       "    </tr>\n",
       "    <tr>\n",
       "      <th>Celje</th>\n",
       "      <td>Celje</td>\n",
       "      <td>3001</td>\n",
       "    </tr>\n",
       "    <tr>\n",
       "      <th>Celje</th>\n",
       "      <td>smartno v Rozni dolini</td>\n",
       "      <td>3201</td>\n",
       "    </tr>\n",
       "    <tr>\n",
       "      <th>Celje</th>\n",
       "      <td>Ljubecna</td>\n",
       "      <td>3202</td>\n",
       "    </tr>\n",
       "    <tr>\n",
       "      <th>Celje</th>\n",
       "      <td>Nova Cerkev</td>\n",
       "      <td>3203</td>\n",
       "    </tr>\n",
       "    <tr>\n",
       "      <th>...</th>\n",
       "      <td>...</td>\n",
       "      <td>...</td>\n",
       "    </tr>\n",
       "    <tr>\n",
       "      <th>Novo Mesto</th>\n",
       "      <td>zuzemberk</td>\n",
       "      <td>8360</td>\n",
       "    </tr>\n",
       "    <tr>\n",
       "      <th>Novo Mesto</th>\n",
       "      <td>Dvor</td>\n",
       "      <td>8361</td>\n",
       "    </tr>\n",
       "    <tr>\n",
       "      <th>Novo Mesto</th>\n",
       "      <td>Hinje</td>\n",
       "      <td>8362</td>\n",
       "    </tr>\n",
       "    <tr>\n",
       "      <th>Novo Mesto</th>\n",
       "      <td>Novo mesto</td>\n",
       "      <td>8501</td>\n",
       "    </tr>\n",
       "    <tr>\n",
       "      <th>Novo Mesto</th>\n",
       "      <td>Novo mesto</td>\n",
       "      <td>8600</td>\n",
       "    </tr>\n",
       "  </tbody>\n",
       "</table>\n",
       "<p>556 rows × 2 columns</p>\n",
       "</div>"
      ],
      "text/plain": [
       "                              city zipcode\n",
       "state                                     \n",
       "Celje                        Celje    3000\n",
       "Celje                        Celje    3001\n",
       "Celje       smartno v Rozni dolini    3201\n",
       "Celje                     Ljubecna    3202\n",
       "Celje                  Nova Cerkev    3203\n",
       "...                            ...     ...\n",
       "Novo Mesto               zuzemberk    8360\n",
       "Novo Mesto                    Dvor    8361\n",
       "Novo Mesto                   Hinje    8362\n",
       "Novo Mesto              Novo mesto    8501\n",
       "Novo Mesto              Novo mesto    8600\n",
       "\n",
       "[556 rows x 2 columns]"
      ]
     },
     "execution_count": 8,
     "metadata": {},
     "output_type": "execute_result"
    }
   ],
   "source": [
    "df = pd.DataFrame({\n",
    "    'state': states,\n",
    "    'city': city,\n",
    "    'zipcode': zipcode\n",
    "})\n",
    "df.set_index('state', inplace = True)\n",
    "df.sort_index(inplace = True)\n",
    "df"
   ]
  },
  {
   "cell_type": "code",
   "execution_count": 9,
   "id": "d9fb7785",
   "metadata": {},
   "outputs": [],
   "source": [
    "df.to_csv(\"Slovenia.csv\")"
   ]
  },
  {
   "cell_type": "code",
   "execution_count": null,
   "id": "a32b0bf2",
   "metadata": {},
   "outputs": [],
   "source": []
  }
 ],
 "metadata": {
  "kernelspec": {
   "display_name": "Python 3 (ipykernel)",
   "language": "python",
   "name": "python3"
  },
  "language_info": {
   "codemirror_mode": {
    "name": "ipython",
    "version": 3
   },
   "file_extension": ".py",
   "mimetype": "text/x-python",
   "name": "python",
   "nbconvert_exporter": "python",
   "pygments_lexer": "ipython3",
   "version": "3.9.7"
  }
 },
 "nbformat": 4,
 "nbformat_minor": 5
}
